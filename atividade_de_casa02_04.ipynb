{
  "nbformat": 4,
  "nbformat_minor": 0,
  "metadata": {
    "colab": {
      "provenance": [],
      "authorship_tag": "ABX9TyPBjuSnMTJaXfvjd9h1ieO2",
      "include_colab_link": true
    },
    "kernelspec": {
      "name": "python3",
      "display_name": "Python 3"
    },
    "language_info": {
      "name": "python"
    }
  },
  "cells": [
    {
      "cell_type": "markdown",
      "metadata": {
        "id": "view-in-github",
        "colab_type": "text"
      },
      "source": [
        "<a href=\"https://colab.research.google.com/github/DEBORACSANTOS/atividades-de-programa-o-Colab/blob/main/atividade_de_casa02_04.ipynb\" target=\"_parent\"><img src=\"https://colab.research.google.com/assets/colab-badge.svg\" alt=\"Open In Colab\"/></a>"
      ]
    },
    {
      "cell_type": "code",
      "execution_count": null,
      "metadata": {
        "id": "euHjzDeDcHfy"
      },
      "outputs": [],
      "source": [
        "areas = [\"halLway\", 11.25, \"kitchen\",18.0,\"living room\",20.0,\"bedroom\",10.75, \"bathroom\",9.50, \"poolhouse\", 24.5]"
      ]
    },
    {
      "cell_type": "code",
      "source": [
        "areas1 = areas[0:14]\n",
        "print(areas1)"
      ],
      "metadata": {
        "colab": {
          "base_uri": "https://localhost:8080/"
        },
        "id": "N4batO-K1AFE",
        "outputId": "17b3bfa4-1990-4c58-d623-fbb24597b935"
      },
      "execution_count": null,
      "outputs": [
        {
          "output_type": "stream",
          "name": "stdout",
          "text": [
            "['halLway', 11.25, 'kitchen', 18.0, 'living room', 20.0, 'bedroom', 10.75, 'bathroom', 9.5, 'poolhouse', 24.5]\n"
          ]
        }
      ]
    },
    {
      "cell_type": "code",
      "source": [
        "areas1 = ['halLway', 11.25, 'kitchen', 18.0, 'living room', 20.0, 'bedroom', 10.75, 'bathroom', 9.5, 'poolhouse', 24.5]"
      ],
      "metadata": {
        "id": "nt2JUda93lVG"
      },
      "execution_count": null,
      "outputs": []
    },
    {
      "cell_type": "code",
      "source": [
        "areas1 = ['halLway', 11.25, 'kitchen', 18.0, 'living room', 20.0, 'bedroom', 10.75, 'bathroom', 9.5, 'poolhouse', 24.5]\n",
        "areas2 = areas1 + ['garage', 15.5]\n",
        "print(areas2)"
      ],
      "metadata": {
        "colab": {
          "base_uri": "https://localhost:8080/"
        },
        "id": "AI_tyjCXBgzg",
        "outputId": "d5dcb72e-922c-4dd4-c7ab-5cd5998a8171"
      },
      "execution_count": null,
      "outputs": [
        {
          "output_type": "stream",
          "name": "stdout",
          "text": [
            "['halLway', 11.25, 'kitchen', 18.0, 'living room', 20.0, 'bedroom', 10.75, 'bathroom', 9.5, 'poolhouse', 24.5, 'garage', 15.5]\n"
          ]
        }
      ]
    },
    {
      "cell_type": "code",
      "source": [
        "#comentário = atividade de casa"
      ],
      "metadata": {
        "id": "vJcP3UQhGO_j"
      },
      "execution_count": null,
      "outputs": []
    },
    {
      "cell_type": "code",
      "source": [
        "aluno= 'Saulo'\n",
        "nota01 = 8.0\n",
        "nota02= 7.0\n",
        "nota03= 10.0\n",
        "media= (8.0+7.0+10.0)/3.0\n",
        "media"
      ],
      "metadata": {
        "colab": {
          "base_uri": "https://localhost:8080/"
        },
        "id": "1vcUy17t00Bd",
        "outputId": "beb85c99-67b0-4b3a-c5d2-69ebe00fa803"
      },
      "execution_count": null,
      "outputs": [
        {
          "output_type": "execute_result",
          "data": {
            "text/plain": [
              "8.333333333333334"
            ]
          },
          "metadata": {},
          "execution_count": 15
        }
      ]
    },
    {
      "cell_type": "code",
      "source": [
        "print(type(media))"
      ],
      "metadata": {
        "colab": {
          "base_uri": "https://localhost:8080/"
        },
        "id": "VTc_VOjY6oUK",
        "outputId": "5ebfdb31-f3b2-4efe-821a-74c62d31a6e4"
      },
      "execution_count": null,
      "outputs": [
        {
          "output_type": "stream",
          "name": "stdout",
          "text": [
            "<class 'float'>\n"
          ]
        }
      ]
    },
    {
      "cell_type": "code",
      "source": [
        "print(type(aluno))"
      ],
      "metadata": {
        "colab": {
          "base_uri": "https://localhost:8080/"
        },
        "id": "XmB_VKKY6r4a",
        "outputId": "e791ba76-ecbf-4059-a176-a8de62884ef0"
      },
      "execution_count": null,
      "outputs": [
        {
          "output_type": "stream",
          "name": "stdout",
          "text": [
            "<class 'str'>\n"
          ]
        }
      ]
    },
    {
      "cell_type": "code",
      "source": [
        "#segunda questão"
      ],
      "metadata": {
        "id": "PASQViATbpFR"
      },
      "execution_count": null,
      "outputs": []
    },
    {
      "cell_type": "code",
      "source": [
        "nome = 'Débora'\n",
        "sobrenome = 'Barreto'\n",
        "nome_completo = 'Débora' + 'Barreto'\n",
        "print(nome_completo)"
      ],
      "metadata": {
        "colab": {
          "base_uri": "https://localhost:8080/"
        },
        "id": "wh5YdzS4dHta",
        "outputId": "25b92400-4ade-463a-e2e0-985b4a47a951"
      },
      "execution_count": null,
      "outputs": [
        {
          "output_type": "stream",
          "name": "stdout",
          "text": [
            "DéboraBarreto\n"
          ]
        }
      ]
    },
    {
      "cell_type": "code",
      "source": [
        "#terceira questão"
      ],
      "metadata": {
        "id": "4tDwUkFEbtT_"
      },
      "execution_count": null,
      "outputs": []
    },
    {
      "cell_type": "code",
      "source": [
        "lista_de_alimentos = [\"arroz\", \"feijão\", \"pão\", \"carne\", \"queijo\", \"presunto\", \"requeijão\", \"frutas\", \"iogurte\", \"granola\"]\n",
        "print(lista_de_alimentos [-1])"
      ],
      "metadata": {
        "colab": {
          "base_uri": "https://localhost:8080/"
        },
        "id": "Zrq309eH0ufH",
        "outputId": "aaa5f2a4-a2c9-497f-c682-057da82893bc"
      },
      "execution_count": null,
      "outputs": [
        {
          "output_type": "stream",
          "name": "stdout",
          "text": [
            "granola\n"
          ]
        }
      ]
    },
    {
      "cell_type": "code",
      "source": [
        "print(lista_de_alimentos[3])"
      ],
      "metadata": {
        "colab": {
          "base_uri": "https://localhost:8080/"
        },
        "id": "ZxTKocGB7mtT",
        "outputId": "77bee3f2-9382-4da7-f4bd-e10514a4fdde"
      },
      "execution_count": null,
      "outputs": [
        {
          "output_type": "stream",
          "name": "stdout",
          "text": [
            "carne\n"
          ]
        }
      ]
    },
    {
      "cell_type": "code",
      "source": [
        "print(lista_de_alimentos[4])"
      ],
      "metadata": {
        "colab": {
          "base_uri": "https://localhost:8080/"
        },
        "id": "3Dx9TCAaDP3G",
        "outputId": "72c3cf8a-7f83-4643-f6b0-392dfe930bd0"
      },
      "execution_count": null,
      "outputs": [
        {
          "output_type": "stream",
          "name": "stdout",
          "text": [
            "queijo\n"
          ]
        }
      ]
    },
    {
      "cell_type": "code",
      "source": [
        "print(lista_de_alimentos[7:10])"
      ],
      "metadata": {
        "colab": {
          "base_uri": "https://localhost:8080/"
        },
        "id": "LhbY9_saEN4J",
        "outputId": "f8d4e1d3-5cb4-4e39-a0d4-2ccd2f2ead3b"
      },
      "execution_count": null,
      "outputs": [
        {
          "output_type": "stream",
          "name": "stdout",
          "text": [
            "['frutas', 'iogurte', 'granola']\n"
          ]
        }
      ]
    },
    {
      "cell_type": "code",
      "source": [
        "print(lista_de_alimentos[2:7])\n"
      ],
      "metadata": {
        "colab": {
          "base_uri": "https://localhost:8080/"
        },
        "id": "3lPzNKszErqr",
        "outputId": "113a8cc3-60c2-45e9-cfe6-a72a8e7459f8"
      },
      "execution_count": null,
      "outputs": [
        {
          "output_type": "stream",
          "name": "stdout",
          "text": [
            "['pão', 'carne', 'queijo', 'presunto', 'requeijão']\n"
          ]
        }
      ]
    },
    {
      "cell_type": "code",
      "source": [
        "#quarta questão"
      ],
      "metadata": {
        "id": "aR8Cigpobx9O"
      },
      "execution_count": null,
      "outputs": []
    },
    {
      "cell_type": "code",
      "source": [
        "lista_de_alimentos = [\"arroz\", 5.0, \"feijão\", 8.0 , \"pão\", 10.0, \"carne\",35.0, \"queijo\",7.80, \"presunto\",5.60, \"requeijão\",9.60, \"frutas\",40.0, \"iogurte\", \n",
        "10.0, \"granola\", 22.0]\n",
        "gasto_total = (5.0 + 8.0 + 10.0 + 35.0 + 7.80 + 5.60 + 9.60 + 40.0 + 10.0 + 22.0)\n",
        "print(gasto_total)"
      ],
      "metadata": {
        "colab": {
          "base_uri": "https://localhost:8080/"
        },
        "id": "moNL3lwxE-wB",
        "outputId": "d1546a08-8522-4e66-c59e-05e5b126670b"
      },
      "execution_count": null,
      "outputs": [
        {
          "output_type": "stream",
          "name": "stdout",
          "text": [
            "153.0\n"
          ]
        }
      ]
    },
    {
      "cell_type": "code",
      "source": [
        "alimentos_mais_caros = [lista_de_alimentos[14:16], lista_de_alimentos[6:8], lista_de_alimentos[18:20]] \n",
        "print(alimentos_mais_caros)"
      ],
      "metadata": {
        "colab": {
          "base_uri": "https://localhost:8080/"
        },
        "id": "mtJ92sGnHjKX",
        "outputId": "ce2a47f6-328d-4c53-d01b-58982f59e8a1"
      },
      "execution_count": null,
      "outputs": [
        {
          "output_type": "stream",
          "name": "stdout",
          "text": [
            "[['frutas', 40.0], ['carne', 35.0], ['granola', 22.0]]\n"
          ]
        }
      ]
    },
    {
      "cell_type": "code",
      "source": [
        "#quinta questão"
      ],
      "metadata": {
        "id": "OE-XBvmvb2Z1"
      },
      "execution_count": null,
      "outputs": []
    },
    {
      "cell_type": "code",
      "source": [
        "lista_adaptada= [[\"arroz\", 5.0],\n",
        "[\"feijão\", 8.0],\n",
        "[\"pão\", 10.0],\n",
        "[\"carne\",35.0],\n",
        "[\"queijo\",7.80],\n",
        "[\"presunto\",5.60],\n",
        "[\"requeijão\",9.60],\n",
        "[\"frutas\",40.0],\n",
        "[\"iogurte\", 10.0],\n",
        "[\"granola\", 22.0]]\n",
        "print(lista_adaptada)"
      ],
      "metadata": {
        "colab": {
          "base_uri": "https://localhost:8080/"
        },
        "id": "1iY-qxiIKy_K",
        "outputId": "cf29cc53-41ed-461e-9910-6948091b880a"
      },
      "execution_count": null,
      "outputs": [
        {
          "output_type": "stream",
          "name": "stdout",
          "text": [
            "[['arroz', 5.0], ['feijão', 8.0], ['pão', 10.0], ['carne', 35.0], ['queijo', 7.8], ['presunto', 5.6], ['requeijão', 9.6], ['frutas', 40.0], ['iogurte', 10.0], ['granola', 22.0]]\n"
          ]
        }
      ]
    },
    {
      "cell_type": "code",
      "source": [
        "lista_adaptada= [['arroz', 5.0],\n",
        "['feijão', 8.0],\n",
        "['pão', 10.0],\n",
        "['carne',35.0],\n",
        "['queijo',7.80],\n",
        "['presunto',5.60],\n",
        "['requeijão',9.60],\n",
        "['frutas',40.0],\n",
        "['iogurte', 10.0],\n",
        "['granola', 22.0]]\n",
        "lista2a4 = lista_adaptada [1:4]\n",
        "print(lista2a4)\n",
        "lista4 = lista_adaptada[2]\n",
        "print(lista4)\n",
        "lista5 = lista_adaptada[3]\n",
        "print(lista5)\n",
        "lista5 = lista_adaptada[6] \n",
        "lista6 = lista_adaptada[0]\n",
        "print(lista6)"
      ],
      "metadata": {
        "colab": {
          "base_uri": "https://localhost:8080/"
        },
        "id": "DGUNPZsvQI_-",
        "outputId": "f2a9bbad-0aff-4a48-a46b-e052658a7c89"
      },
      "execution_count": null,
      "outputs": [
        {
          "output_type": "stream",
          "name": "stdout",
          "text": [
            "[['feijão', 8.0], ['pão', 10.0], ['carne', 35.0]]\n",
            "['pão', 10.0]\n",
            "['carne', 35.0]\n",
            "['arroz', 5.0]\n"
          ]
        }
      ]
    }
  ]
}